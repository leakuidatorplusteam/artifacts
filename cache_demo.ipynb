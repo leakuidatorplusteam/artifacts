{
  "nbformat": 4,
  "nbformat_minor": 0,
  "metadata": {
    "colab": {
      "name": "cache_demo.ipynb",
      "provenance": [],
      "authorship_tag": "ABX9TyN+sy88YRSeeVTaCKY3wuaS",
      "include_colab_link": true
    },
    "kernelspec": {
      "name": "python3",
      "display_name": "Python 3"
    },
    "language_info": {
      "name": "python"
    }
  },
  "cells": [
    {
      "cell_type": "markdown",
      "metadata": {
        "id": "view-in-github",
        "colab_type": "text"
      },
      "source": [
        "<a href=\"https://colab.research.google.com/github/leakuidatorplusteam/artifacts/blob/main/cache_demo.ipynb\" target=\"_parent\"><img src=\"https://colab.research.google.com/assets/colab-badge.svg\" alt=\"Open In Colab\"/></a>"
      ]
    },
    {
      "cell_type": "code",
      "execution_count": 1,
      "metadata": {
        "id": "ujPqqu5mqSHI"
      },
      "outputs": [],
      "source": [
        "import json\n",
        "import pandas as pd\n",
        "import torch\n",
        "import torch.nn as nn\n",
        "import numpy as np\n",
        "import matplotlib.pyplot as plt\n",
        "from sklearn.model_selection import train_test_split\n",
        "from sklearn.linear_model import LogisticRegression\n",
        "from sklearn import metrics\n",
        "from sklearn.preprocessing import LabelEncoder,OneHotEncoder\n",
        "import matplotlib.pyplot as plt\n",
        "from sklearn.gaussian_process import GaussianProcessRegressor as GP\n",
        "from sklearn.gaussian_process.kernels import RBF, ConstantKernel as C\n",
        "import tensorflow as tf\n",
        "from sklearn.preprocessing import LabelEncoder,OneHotEncoder\n",
        "from sklearn.model_selection import StratifiedShuffleSplit\n",
        "from sklearn.metrics import confusion_matrix, classification_report\n",
        "from tensorflow.keras.layers import Input,Conv1D,MaxPool1D,LSTM,Flatten,Dropout,Dense\n",
        "from tensorflow.keras.models import Model\n",
        "from tensorflow.keras.callbacks import EarlyStopping\n",
        "import seaborn as sns\n",
        "from sklearn.model_selection import cross_val_score\n",
        "from sklearn.svm import SVC\n",
        "from sklearn.decomposition import PCA\n",
        "from sklearn.pipeline import make_pipeline\n",
        "from sklearn.model_selection import GridSearchCV\n",
        "from sklearn.neighbors import KNeighborsClassifier\n",
        "from sklearn.naive_bayes import GaussianNB\n",
        "from sklearn.naive_bayes import MultinomialNB\n",
        "from sklearn.naive_bayes import BernoulliNB\n",
        "from sklearn.ensemble import RandomForestClassifier\n",
        "from scipy.interpolate import make_interp_spline\n",
        "from sklearn.metrics import mean_squared_error as mse\n",
        "from scipy.spatial.distance import euclidean\n",
        "from fastdtw import fastdtw\n",
        "import zipfile"
      ]
    },
    {
      "cell_type": "code",
      "source": [
        "## Online-Only Attack Simulation\n",
        "def online(Xdata,ydata):\n",
        "  countmseT = 0\n",
        "  countmseN = 0\n",
        "  countdtwT = 0\n",
        "  countdtwN = 0\n",
        "  index = 0\n",
        "  while(index < 100):\n",
        "    b0 = Xdata[index+100] \n",
        "    b1 = Xdata[index]\n",
        "    p0 = Xdata[index+101]\n",
        "    p1 = Xdata[index+1]\n",
        "    n = mse(b0,p0)\n",
        "    t = mse(b1,p0)\n",
        "    if(n < t):\n",
        "      countmseN = countmseN + 1\n",
        "    n = mse(b0,p1)\n",
        "    t = mse(b1,p1)\n",
        "    if(n >= t):\n",
        "      countmseT = countmseT + 1\n",
        "    n = fastdtw(b0,p0, dist=euclidean)\n",
        "    t = fastdtw(b1,p0, dist=euclidean)\n",
        "    if(n[0] < t[0]):\n",
        "      countdtwN = countdtwN + 1\n",
        "    n = fastdtw(b0,p1, dist=euclidean)\n",
        "    t = fastdtw(b1,p1, dist=euclidean)\n",
        "    if(n[0] >= t[0]):\n",
        "      countdtwT = countdtwT + 1\n",
        "    index = index + 2\n",
        "  \n",
        "  return str(countmseT+countmseN)+\"%\", str(countdtwT+countdtwN)+\"%\""
      ],
      "metadata": {
        "id": "95nDEgWf89l2"
      },
      "execution_count": null,
      "outputs": []
    },
    {
      "cell_type": "code",
      "source": [
        "## LSTM model\n",
        "def small_cnn_lstm(input_vector, output_size=2, filters=256, strides=3, pool_size=4, units=32, dropout=0.7, kernel_size=32, lr=0.001):\n",
        "    inp = Input((input_vector, 1))\n",
        "    x = Conv1D(filters, kernel_size=kernel_size, strides=strides, activation='relu')(inp)\n",
        "    x = MaxPool1D(pool_size=pool_size, padding='same')(x)\n",
        "    x = LSTM(units, return_sequences=True, recurrent_activation='hard_sigmoid')(x)\n",
        "    x = Flatten()(x)\n",
        "    x = Dropout(dropout)(x)\n",
        "    preds = Dense(output_size, activation='softmax')(x)\n",
        "    model = Model(inputs=inp, outputs=preds)\n",
        "    opt = tf.keras.optimizers.Adam(lr)\n",
        "    model.compile(optimizer=opt, loss='categorical_crossentropy', metrics=['accuracy'])  # optimizer, metrics\n",
        "    return model"
      ],
      "metadata": {
        "id": "xPCU1pfo6fwV"
      },
      "execution_count": 63,
      "outputs": []
    },
    {
      "cell_type": "code",
      "source": [
        "## methods include MSE, DTW, GNB, MNB, KNN, SVM, RF, LR and LSTM\n",
        "def classify_binary(method, Xdata, ydata):\n",
        "  lab_enc=LabelEncoder()\n",
        "  lab_hot=OneHotEncoder()\n",
        "  y_num= lab_enc.fit_transform(ydata)\n",
        "  y_hot=lab_hot.fit_transform(y_num.reshape(-1,1))\n",
        "  y_hot=y_hot.toarray()\n",
        "  skf = StratifiedShuffleSplit(n_splits=10,random_state=6)\n",
        "\n",
        "  partial_accuracies=[]\n",
        "  for train_index, test_index in skf.split(Xdata, ydata):\n",
        "      X_train, X_test = Xdata[train_index], Xdata[test_index]\n",
        "      mean=X_train.mean()\n",
        "      std=X_train.std()\n",
        "      X_train_norm=(X_train-mean+1e-10)/std\n",
        "      X_test_norm=(X_test-mean+1e-10)/std\n",
        "  \n",
        "      y_train, y_test = ydata[train_index], ydata[test_index]\n",
        "\n",
        "      if(len(Xdata) > 100 and len(Xdata[0]) > 100):\n",
        "        pca=PCA(n_components=100, svd_solver='randomized', whiten=True, random_state=6)\n",
        "\n",
        "      ## MNB and GNB: Multinomial and Gaussian Naive Bayes\n",
        "      if(method == 'GNB'):\n",
        "        model = GaussianNB()\n",
        "        model.fit(X_train,y_train)\n",
        "        prd=model.predict(X_test)\n",
        "      \n",
        "      if(method == 'MNB'):\n",
        "        model = MultinomialNB()\n",
        "        model.fit(X_train,y_train)\n",
        "        prd=model.predict(X_test)\n",
        "\n",
        "      ## KNN: K Nearest Neighbor\n",
        "      if(method == 'KNN'):\n",
        "        knn=KNeighborsClassifier()\n",
        "        param_grid = {'n_neighbors': [3, 5, 7, 9, 11, 13, 15, 17, 19, 21], 'weights': ['uniform', 'distance'], 'metric': ['euclidean','manhattan']}\n",
        "        grid= GridSearchCV(knn, param_grid,n_jobs=-1)\n",
        "        grid.fit(X_train_norm,y_train)\n",
        "        model=grid.best_estimator_\n",
        "        prd=model.predict(X_test_norm)\n",
        "      \n",
        "      ## SVM: Support Vector Machine\n",
        "      if(method == 'SVM'):\n",
        "        svc = SVC(kernel='rbf',class_weight='balanced',random_state=6)\n",
        "        if(len(Xdata) > 100 and len(Xdata[0]) > 100):\n",
        "          model=make_pipeline(pca,svc)\n",
        "          param_grid = {'svc__C': [1, 5, 10, 50],'svc__gamma': [0.0001, 0.0005, 0.001, 0.005]} \n",
        "        else:\n",
        "          model=svc\n",
        "          param_grid = {'C': [1, 5, 10, 50],'gamma': [0.0001, 0.0005, 0.001, 0.005]} \n",
        "        grid = GridSearchCV(model, param_grid)\n",
        "        grid.fit(X_train_norm, y_train)\n",
        "        model = grid.best_estimator_\n",
        "        prd=model.predict(X_test_norm)\n",
        "\n",
        "      ## RF: Random Forest\n",
        "      if(method == 'RF'):\n",
        "        model = RandomForestClassifier(n_estimators=1000, random_state=6)\n",
        "        model.fit(X_train_norm,y_train)\n",
        "        prd=model.predict(X_test_norm)\n",
        "      \n",
        "      ## LR: Logistic Regression\n",
        "      if(method == 'LR'):\n",
        "        model=LogisticRegression(max_iter=1000)\n",
        "        model.fit(X_train_norm,y_train)\n",
        "        prd=model.predict(X_test_norm)\n",
        "\n",
        "      ## LSTM: Long Short-Term Memory \n",
        "      if(method == 'LSTM'):\n",
        "        y_train, y_test = y_hot[train_index], y_num[test_index]\n",
        "        model=small_cnn_lstm(X_train.shape[1])\n",
        "        model.fit(X_train_norm,y_train,validation_split=0.1,epochs=100,verbose=0,callbacks=[EarlyStopping( patience=2,restore_best_weights=True)])\n",
        "        prd=model.predict(X_test_norm).argmax(axis=-1)\n",
        "\n",
        "      ## record partial accuracies\n",
        "      partial_accuracies.append(classification_report(y_test, prd, output_dict=True)['accuracy'])\n",
        "\n",
        "  mean=round(np.mean(partial_accuracies)*100,2)\n",
        "  deviation=round(np.std(partial_accuracies)*100,2)\n",
        "  return (str(mean)+\"%±\"+str(deviation)+\"%\")"
      ],
      "metadata": {
        "id": "ufTkhjUX-cTT"
      },
      "execution_count": null,
      "outputs": []
    },
    {
      "cell_type": "code",
      "source": [
        "## Average Plot\n",
        "def average_plot(dataX, sweep, interval, duration):\n",
        "  sample_size= len(dataX[0])\n",
        "\n",
        "  arr0 = np.zeros(sample_size)\n",
        "  arr1 = np.zeros(sample_size)\n",
        "\n",
        "  count0 = np.zeros(sample_size)\n",
        "  count1 = np.zeros(sample_size)\n",
        "  \n",
        "  for i in range(0,int(len(dataX)/2)):\n",
        "    for j in range(0,sample_size):\n",
        "      cond_val = 6.0\n",
        "      if(sweep == True):\n",
        "        cond_val = 0\n",
        "      \n",
        "      if(dataX[i+100][j] != cond_val):\n",
        "        arr0[j] += dataX[i+100][j]\n",
        "        count0[j] += 1\n",
        "      if(dataX[i][j] != cond_val):\n",
        "        arr1[j] += dataX[i][j]\n",
        "        count1[j] += 1\n",
        "\n",
        "  for i in range(0,sample_size):\n",
        "    if(count0[i] != 0):\n",
        "      arr0[i] /= count0[i]\n",
        "      if(sweep == True and arr0[i] != 0):\n",
        "        arr0[i] = interval/arr0[i]\n",
        "    if(count1[i] != 0):\n",
        "      arr1[i] /= count1[i]\n",
        "      if(sweep == True and arr1[i] != 0):\n",
        "        arr1[i] = interval/arr1[i]\n",
        "  ydata= []\n",
        "  for i in range(1,len(dataX[0])+1):\n",
        "    ydata.append(i)\n",
        "  ydata=np.array(ydata)\n",
        "  plt.plot(arr0, '+--', label = \"Non Target\", linewidth=1, markersize=4,c=\"blue\")\n",
        "  plt.plot(arr1, 'o-', label = \"Target\", linewidth=1, markersize=4,c=\"orange\",alpha=0.3)\n",
        "  \n",
        "  step=0.25\n",
        "  plt.xticks(np.arange(0, sample_size+1, sample_size*step),[0,step*duration,step*2*duration,step*3*duration,step*4*duration])\n",
        "  \n",
        "  plt.xlabel(\"Time of Measurement (s)\")\n",
        "  plt.ylabel(\"Average Buffer Access Time (ms)\")\n",
        "  plt.legend()\n",
        "  plt.show()"
      ],
      "metadata": {
        "id": "ce8ckRr2Tik-"
      },
      "execution_count": null,
      "outputs": []
    },
    {
      "cell_type": "code",
      "source": [
        "## using the classifiers\n",
        "def classify(Xdata, ydata, class_type, df):\n",
        "  if class_type == \"binary\":\n",
        "    p_mse,p_dtw=online(Xdata,ydata)\n",
        "    p_gnb=classify_binary('GNB', Xdata, ydata)\n",
        "    p_mnb=classify_binary('MNB', Xdata, ydata)\n",
        "    p_knn=classify_binary('KNN', Xdata, ydata)\n",
        "    p_svm=classify_binary('SVM', Xdata, ydata)\n",
        "    p_rf=classify_binary('RF', Xdata, ydata)\n",
        "    p_lr=classify_binary('LR', Xdata, ydata)\n",
        "    #p_lstm=classify_binary('LSTM', Xdata, ydata)\n",
        "    return df + \"; MSE: \" + str(p_mse) + \", FastDTW: \" + str(p_dtw) + \", GNB: \" + str(p_gnb) + \", MNB: \" + str(p_mnb) + \", KNN: \" + str(p_knn) + \", SVM: \" + str(p_svm) + \", RF: \" + str(p_rf) + \", LR: \" + str(p_lr) #+ \" LSTM: \" + str(p_lstm)\n",
        "  #else:\n",
        "  #  p_lstm=classify_multi('LSTM', Xdata, ydata)\n"
      ],
      "metadata": {
        "id": "CcpNzeE6Q0vf"
      },
      "execution_count": 24,
      "outputs": []
    },
    {
      "cell_type": "code",
      "source": [
        "## load the dataset\n",
        "## TODO: add all traces to the dataset\n",
        "!wget \"https://github.com/leakuidatorplusteam/artifacts/raw/main/dataset.zip\" # type: ignore\n",
        "\n",
        "with zipfile.ZipFile(\"dataset.zip\",\"r\") as zip_ref:\n",
        "    zip_ref.extractall()"
      ],
      "metadata": {
        "id": "i_WCGMZkhmif"
      },
      "execution_count": null,
      "outputs": []
    },
    {
      "cell_type": "code",
      "source": [
        "## [Single Target Attacks (Table 2 of the paper)]\n",
        "systems=[\"Win-Chrome\", \"Win-Tor\", \"Mac-Intel-Safari\", \"Mac-M1-Chrome\"]\n",
        "services=[\"Google\", \"Twitter\", \"LinkedIn\", \"TikTok\", \"Facebook\", \"Instagram\", \"Reddit\"]\n",
        "defense=[\"w_o_def\",\"w_def\"]\n",
        "for m in systems:\n",
        "  for s in services:\n",
        "    setup=m + '-' + s\n",
        "    print(\"\\n\")\n",
        "    print(setup)\n",
        "    for d in defense:\n",
        "      if(m==\"Mac-Intel-Safari\" and d==\"w_def\"):\n",
        "        continue\n",
        "      path= setup + '-' + d + \".json\"\n",
        "      with open(\"dataset/\"+path,'r') as f:\n",
        "        data=json.load(f)\n",
        "      X=np.array(data['X'],dtype=np.float32)\n",
        "      y=np.array(data['y'])\n",
        "      print(classify(X, y, \"binary\",d))"
      ],
      "metadata": {
        "colab": {
          "base_uri": "https://localhost:8080/"
        },
        "id": "F6CRpE0a7LjZ",
        "outputId": "3e3d6db6-6a41-4147-bb5e-c805895c77c5"
      },
      "execution_count": null,
      "outputs": [
        {
          "output_type": "stream",
          "name": "stdout",
          "text": [
            "\n",
            "\n",
            "Win-Chrome-Google\n",
            "w_o_def; MSE: 97%, FastDTW: 98%, GNB: 98.0%±2.45%, MNB: 98.0%±2.45%, KNN: 98.5%±2.29%, SVM: 98.0%±2.45%, RF: 98.5%±2.29%, LR: 98.0%±2.45%\n",
            "w_def; MSE: 49%, FastDTW: 50%, GNB: 54.0%±8.31%, MNB: 56.5%±10.01%, KNN: 55.0%±10.72%, SVM: 49.5%±12.93%, RF: 60.0%±12.04%, LR: 54.0%±14.63%\n",
            "\n",
            "\n",
            "Win-Chrome-Twitter\n",
            "w_o_def; MSE: 76%, FastDTW: 82%, GNB: 97.5%±2.5%, MNB: 97.0%±4.58%, KNN: 97.0%±3.32%, SVM: 97.5%±4.61%, RF: 98.0%±3.32%, LR: 98.0%±3.32%\n",
            "w_def; MSE: 55%, FastDTW: 53%, GNB: 53.5%±7.09%, MNB: 46.5%±11.41%, KNN: 53.5%±13.79%, SVM: 45.0%±13.23%, RF: 49.0%±9.17%, LR: 41.0%±15.62%\n",
            "\n",
            "\n",
            "Win-Chrome-LinkedIn\n",
            "w_o_def; MSE: 100%, FastDTW: 100%, GNB: 97.5%±3.35%, MNB: 98.0%±3.32%, KNN: 100.0%±0.0%, SVM: 98.5%±2.29%, RF: 99.5%±1.5%, LR: 100.0%±0.0%\n",
            "w_def; MSE: 47%, FastDTW: 45%, GNB: 51.0%±11.14%, MNB: 54.5%±9.6%, KNN: 52.0%±6.4%, SVM: 52.0%±6.0%, RF: 55.0%±7.75%, LR: 55.0%±7.75%\n",
            "\n",
            "\n",
            "Win-Chrome-TikTok\n",
            "w_o_def; MSE: 67%, FastDTW: 69%, GNB: 77.5%±7.83%, MNB: 75.5%±7.57%, KNN: 80.0%±5.48%, SVM: 88.5%±10.26%, RF: 76.5%±8.38%, LR: 89.5%±8.5%\n",
            "w_def; MSE: 52%, FastDTW: 41%, GNB: 51.0%±8.31%, MNB: 44.5%±5.22%, KNN: 50.5%±10.11%, SVM: 51.5%±7.09%, RF: 48.0%±9.54%, LR: 47.0%±8.12%\n",
            "\n",
            "\n",
            "Win-Chrome-Facebook\n",
            "w_o_def; MSE: 100%, FastDTW: 100%, GNB: 99.0%±2.0%, MNB: 100.0%±0.0%, KNN: 100.0%±0.0%, SVM: 100.0%±0.0%, RF: 100.0%±0.0%, LR: 100.0%±0.0%\n",
            "w_def; MSE: 46%, FastDTW: 51%, GNB: 42.0%±6.78%, MNB: 35.0%±5.92%, KNN: 45.5%±11.5%, SVM: 35.5%±9.07%, RF: 39.5%±7.57%, LR: 41.0%±10.44%\n",
            "\n",
            "\n",
            "Win-Chrome-Instagram\n",
            "w_o_def; MSE: 60%, FastDTW: 71%, GNB: 83.5%±7.76%, MNB: 87.0%±7.48%, KNN: 74.0%±7.68%, SVM: 87.5%±8.44%, RF: 90.5%±5.68%, LR: 87.5%±8.44%\n",
            "w_def; MSE: 52%, FastDTW: 55%, GNB: 43.0%±3.32%, MNB: 45.0%±10.49%, KNN: 48.0%±9.54%, SVM: 49.5%±12.93%, RF: 48.5%±8.08%, LR: 51.0%±8.31%\n",
            "\n",
            "\n",
            "Win-Chrome-Reddit\n",
            "w_o_def; MSE: 67%, FastDTW: 69%, GNB: 77.5%±7.83%, MNB: 75.5%±7.57%, KNN: 80.0%±5.48%, SVM: 88.5%±10.26%, RF: 76.5%±8.38%, LR: 89.5%±8.5%\n"
          ]
        },
        {
          "output_type": "stream",
          "name": "stderr",
          "text": [
            "/usr/local/lib/python3.7/dist-packages/sklearn/metrics/_classification.py:1308: UndefinedMetricWarning: Precision and F-score are ill-defined and being set to 0.0 in labels with no predicted samples. Use `zero_division` parameter to control this behavior.\n",
            "  _warn_prf(average, modifier, msg_start, len(result))\n",
            "/usr/local/lib/python3.7/dist-packages/sklearn/metrics/_classification.py:1308: UndefinedMetricWarning: Precision and F-score are ill-defined and being set to 0.0 in labels with no predicted samples. Use `zero_division` parameter to control this behavior.\n",
            "  _warn_prf(average, modifier, msg_start, len(result))\n",
            "/usr/local/lib/python3.7/dist-packages/sklearn/metrics/_classification.py:1308: UndefinedMetricWarning: Precision and F-score are ill-defined and being set to 0.0 in labels with no predicted samples. Use `zero_division` parameter to control this behavior.\n",
            "  _warn_prf(average, modifier, msg_start, len(result))\n",
            "/usr/local/lib/python3.7/dist-packages/sklearn/metrics/_classification.py:1308: UndefinedMetricWarning: Precision and F-score are ill-defined and being set to 0.0 in labels with no predicted samples. Use `zero_division` parameter to control this behavior.\n",
            "  _warn_prf(average, modifier, msg_start, len(result))\n",
            "/usr/local/lib/python3.7/dist-packages/sklearn/metrics/_classification.py:1308: UndefinedMetricWarning: Precision and F-score are ill-defined and being set to 0.0 in labels with no predicted samples. Use `zero_division` parameter to control this behavior.\n",
            "  _warn_prf(average, modifier, msg_start, len(result))\n",
            "/usr/local/lib/python3.7/dist-packages/sklearn/metrics/_classification.py:1308: UndefinedMetricWarning: Precision and F-score are ill-defined and being set to 0.0 in labels with no predicted samples. Use `zero_division` parameter to control this behavior.\n",
            "  _warn_prf(average, modifier, msg_start, len(result))\n"
          ]
        },
        {
          "output_type": "stream",
          "name": "stdout",
          "text": [
            "w_def; MSE: 47%, FastDTW: 47%, GNB: 40.0%±10.0%, MNB: 51.5%±9.76%, KNN: 44.5%±9.86%, SVM: 47.0%±8.43%, RF: 52.0%±9.0%, LR: 45.0%±10.95%\n",
            "\n",
            "\n",
            "Win-Tor-Google\n",
            "w_o_def; MSE: 65%, FastDTW: 80%, GNB: 91.0%±6.63%, MNB: 90.0%±6.32%, KNN: 83.0%±5.57%, SVM: 90.0%±7.75%, RF: 91.0%±7.0%, LR: 91.0%±5.83%\n",
            "w_def; MSE: 48%, FastDTW: 54%, GNB: 46.0%±8.0%, MNB: 47.5%±9.01%, KNN: 46.5%±11.84%, SVM: 48.0%±10.54%, RF: 49.0%±12.21%, LR: 47.0%±6.78%\n",
            "\n",
            "\n",
            "Win-Tor-Twitter\n",
            "w_o_def; MSE: 71%, FastDTW: 74%, GNB: 95.5%±4.72%, MNB: 94.5%±4.15%, KNN: 91.0%±3.0%, SVM: 97.0%±3.32%, RF: 95.5%±3.5%, LR: 95.0%±4.47%\n",
            "w_def; MSE: 52%, FastDTW: 43%, GNB: 46.0%±9.43%, MNB: 46.0%±9.95%, KNN: 55.0%±10.95%, SVM: 51.5%±10.97%, RF: 41.5%±7.76%, LR: 47.5%±9.29%\n",
            "\n",
            "\n",
            "Win-Tor-LinkedIn\n",
            "w_o_def; MSE: 52%, FastDTW: 54%, GNB: 79.5%±10.36%, MNB: 80.0%±7.42%, KNN: 69.5%±11.93%, SVM: 83.5%±7.76%, RF: 80.0%±7.75%, LR: 84.5%±6.1%\n",
            "w_def; MSE: 53%, FastDTW: 52%, GNB: 38.0%±5.1%, MNB: 42.0%±9.54%, KNN: 48.0%±7.48%, SVM: 39.5%±8.2%, RF: 41.0%±5.83%, LR: 44.5%±10.11%\n",
            "\n",
            "\n",
            "Win-Tor-TikTok\n",
            "w_o_def; MSE: 78%, FastDTW: 82%, GNB: 92.0%±4.58%, MNB: 90.0%±6.32%, KNN: 88.5%±5.5%, SVM: 91.0%±4.36%, RF: 90.5%±6.5%, LR: 93.0%±6.0%\n",
            "w_def; MSE: 47%, FastDTW: 49%, GNB: 52.0%±9.8%, MNB: 55.0%±8.66%, KNN: 53.0%±10.54%, SVM: 55.0%±8.66%, RF: 47.5%±8.44%, LR: 51.0%±12.81%\n",
            "\n",
            "\n",
            "Win-Tor-Facebook\n",
            "w_o_def; MSE: 65%, FastDTW: 66%, GNB: 90.0%±7.75%, MNB: 82.5%±6.42%, KNN: 83.0%±9.27%, SVM: 97.0%±6.0%, RF: 92.5%±6.8%, LR: 96.5%±5.02%\n",
            "w_def; MSE: 49%, FastDTW: 45%, GNB: 52.0%±11.45%, MNB: 43.5%±7.76%, KNN: 55.0%±6.32%, SVM: 46.5%±7.76%, RF: 54.5%±13.12%, LR: 42.0%±7.81%\n",
            "\n",
            "\n",
            "Win-Tor-Instagram\n",
            "w_o_def; MSE: 61%, FastDTW: 66%, GNB: 80.0%±8.37%, MNB: 77.0%±7.14%, KNN: 65.5%±9.34%, SVM: 81.5%±5.94%, RF: 80.5%±7.57%, LR: 69.0%±9.7%\n",
            "w_def; MSE: 54%, FastDTW: 56%, GNB: 50.0%±8.94%, MNB: 55.0%±7.75%, KNN: 47.5%±7.16%, SVM: 51.0%±8.6%, RF: 54.0%±9.95%, LR: 51.5%±8.67%\n",
            "\n",
            "\n",
            "Win-Tor-Reddit\n",
            "w_o_def; MSE: 53%, FastDTW: 63%, GNB: 72.0%±8.72%, MNB: 66.0%±8.6%, KNN: 63.5%±8.08%, SVM: 72.0%±9.27%, RF: 65.0%±5.92%, LR: 70.5%±12.54%\n",
            "w_def; MSE: 60%, FastDTW: 50%, GNB: 54.5%±6.1%, MNB: 48.0%±8.43%, KNN: 44.5%±7.89%, SVM: 51.5%±7.76%, RF: 59.0%±9.95%, LR: 48.0%±9.27%\n",
            "\n",
            "\n",
            "Mac-Intel-Safari-Google\n",
            "w_o_def; MSE: 100%, FastDTW: 98%, GNB: 99.0%±2.0%, MNB: 99.0%±2.0%, KNN: 100.0%±0.0%, SVM: 100.0%±0.0%, RF: 100.0%±0.0%, LR: 100.0%±0.0%\n",
            "\n",
            "\n",
            "Mac-Intel-Safari-Twitter\n",
            "w_o_def; MSE: 98%, FastDTW: 98%, GNB: 99.0%±2.0%, MNB: 99.0%±2.0%, KNN: 100.0%±0.0%, SVM: 100.0%±0.0%, RF: 99.0%±2.0%, LR: 99.0%±2.0%\n",
            "\n",
            "\n",
            "Mac-Intel-Safari-LinkedIn\n",
            "w_o_def; MSE: 56%, FastDTW: 68%, GNB: 96.0%±3.0%, MNB: 90.5%±6.5%, KNN: 96.5%±5.02%, SVM: 91.5%±5.5%, RF: 96.0%±3.74%, LR: 85.0%±8.94%\n",
            "\n",
            "\n",
            "Mac-Intel-Safari-TikTok\n",
            "w_o_def; MSE: 68%, FastDTW: 80%, GNB: 93.5%±8.08%, MNB: 84.5%±8.2%, KNN: 96.5%±3.2%, SVM: 98.0%±3.32%, RF: 96.0%±4.9%, LR: 91.5%±5.02%\n",
            "\n",
            "\n",
            "Mac-Intel-Safari-Facebook\n",
            "w_o_def; MSE: 65%, FastDTW: 65%, GNB: 74.5%±6.87%, MNB: 77.0%±7.48%, KNN: 86.5%±7.43%, SVM: 85.0%±5.92%, RF: 84.5%±6.5%, LR: 84.0%±7.0%\n",
            "\n",
            "\n",
            "Mac-Intel-Safari-Instagram\n",
            "w_o_def; MSE: 63%, FastDTW: 81%, GNB: 91.0%±4.9%, MNB: 84.0%±7.0%, KNN: 94.0%±4.36%, SVM: 95.0%±3.87%, RF: 93.0%±4.58%, LR: 92.5%±3.35%\n",
            "\n",
            "\n",
            "Mac-Intel-Safari-Reddit\n",
            "w_o_def; MSE: 60%, FastDTW: 86%, GNB: 87.0%±8.43%, MNB: 86.5%±8.38%, KNN: 88.0%±5.57%, SVM: 88.0%±6.4%, RF: 90.0%±5.0%, LR: 88.0%±5.57%\n",
            "\n",
            "\n",
            "Mac-M1-Chrome-Google\n",
            "w_o_def; MSE: 76%, FastDTW: 87%, GNB: 93.5%±5.94%, MNB: 99.5%±1.5%, KNN: 98.5%±3.2%, SVM: 99.5%±1.5%, RF: 98.0%±2.45%, LR: 100.0%±0.0%\n",
            "w_def; MSE: 48%, FastDTW: 50%, GNB: 53.0%±12.29%, MNB: 51.0%±10.2%, KNN: 54.0%±12.41%, SVM: 46.5%±15.66%, RF: 50.5%±14.74%, LR: 51.5%±11.19%\n",
            "\n",
            "\n",
            "Mac-M1-Chrome-Twitter\n",
            "w_o_def; MSE: 63%, FastDTW: 71%, GNB: 97.5%±4.61%, MNB: 85.0%±6.71%, KNN: 95.0%±3.87%, SVM: 99.0%±2.0%, RF: 98.5%±2.29%, LR: 98.5%±3.2%\n",
            "w_def; MSE: 55%, FastDTW: 47%, GNB: 54.5%±5.68%, MNB: 37.5%±8.14%, KNN: 54.0%±8.0%, SVM: 46.5%±9.76%, RF: 52.5%±8.14%, LR: 49.0%±9.17%\n",
            "\n",
            "\n",
            "Mac-M1-Chrome-LinkedIn\n",
            "w_o_def; MSE: 82%, FastDTW: 74%, GNB: 97.0%±3.32%, MNB: 93.5%±3.91%, KNN: 98.0%±2.45%, SVM: 100.0%±0.0%, RF: 97.5%±2.5%, LR: 98.5%±2.29%\n",
            "w_def; MSE: 49%, FastDTW: 49%, GNB: 52.5%±9.81%, MNB: 49.5%±6.5%, KNN: 56.0%±7.68%, SVM: 63.0%±6.78%, RF: 60.5%±10.59%, LR: 53.5%±14.5%\n",
            "\n",
            "\n",
            "Mac-M1-Chrome-TikTok\n",
            "w_o_def; MSE: 67%, FastDTW: 82%, GNB: 96.0%±5.39%, MNB: 93.5%±3.2%, KNN: 96.5%±4.5%, SVM: 100.0%±0.0%, RF: 97.0%±4.58%, LR: 98.0%±3.32%\n",
            "w_def; MSE: 54%, FastDTW: 49%, GNB: 56.0%±7.35%, MNB: 53.0%±7.14%, KNN: 47.0%±10.54%, SVM: 51.5%±8.96%, RF: 51.0%±8.31%, LR: 55.5%±8.5%\n",
            "\n",
            "\n",
            "Mac-M1-Chrome-Facebook\n",
            "w_o_def; MSE: 93%, FastDTW: 96%, GNB: 96.0%±3.0%, MNB: 96.0%±4.36%, KNN: 97.5%±3.35%, SVM: 97.5%±3.35%, RF: 97.0%±3.32%, LR: 97.5%±3.35%\n",
            "w_def; MSE: 44%, FastDTW: 48%, GNB: 50.0%±8.66%, MNB: 40.0%±5.92%, KNN: 50.5%±9.6%, SVM: 48.0%±5.57%, RF: 41.5%±11.63%, LR: 44.0%±7.0%\n",
            "\n",
            "\n",
            "Mac-M1-Chrome-Instagram\n",
            "w_o_def; MSE: 54%, FastDTW: 67%, GNB: 94.5%±5.68%, MNB: 91.5%±3.2%, KNN: 94.5%±3.5%, SVM: 94.0%±4.36%, RF: 94.0%±3.74%, LR: 95.5%±4.72%\n",
            "w_def; MSE: 57%, FastDTW: 50%, GNB: 43.5%±13.05%, MNB: 38.0%±7.14%, KNN: 49.0%±9.7%, SVM: 42.0%±13.27%, RF: 46.0%±9.7%, LR: 45.0%±10.49%\n",
            "\n",
            "\n",
            "Mac-M1-Chrome-Reddit\n",
            "w_o_def; MSE: 61%, FastDTW: 64%, GNB: 76.0%±6.24%, MNB: 74.5%±10.59%, KNN: 65.5%±10.11%, SVM: 81.0%±5.39%, RF: 76.5%±6.73%, LR: 81.0%±7.0%\n",
            "w_def; MSE: 56%, FastDTW: 56%, GNB: 50.5%±9.6%, MNB: 53.5%±11.41%, KNN: 52.5%±10.31%, SVM: 51.0%±10.91%, RF: 53.0%±4.58%, LR: 51.0%±11.58%\n"
          ]
        }
      ]
    },
    {
      "cell_type": "code",
      "source": [
        "## [Chrome Android]\n",
        "setup = \"Android-Chrome-Google\"\n",
        "print(setup)\n",
        "d=\"w_o_def\"\n",
        "path= setup + '-' + d + \".json\"\n",
        "with open(\"dataset/\"+path,'r') as f:\n",
        "  data=json.load(f)\n",
        "X=np.array(data['X'],dtype=np.float32)\n",
        "y=np.array(data['y'])\n",
        "print(classify(X, y, \"binary\",d))"
      ],
      "metadata": {
        "id": "SS4ONsNwQ26R",
        "outputId": "6121d8b5-612f-4418-ec19-a65cb947d157",
        "colab": {
          "base_uri": "https://localhost:8080/"
        }
      },
      "execution_count": null,
      "outputs": [
        {
          "output_type": "stream",
          "name": "stdout",
          "text": [
            "Android-Chrome-Google\n",
            "w_o_def; MSE: 59%, FastDTW: 67%, GNB: 54.5%±11.06%, MNB: 88.5%±9.23%, KNN: 66.0%±5.83%, SVM: 88.0%±8.43%, RF: 86.5%±7.76%, LR: 92.0%±4.58%\n"
          ]
        }
      ]
    },
    {
      "cell_type": "code",
      "source": [
        "## [Old Defense (Leakuidator)]\n",
        "setup = \"Win-Chrome-Google\"\n",
        "print(setup)\n",
        "d=\"w_old_def\"\n",
        "path= setup + '-' + d + \".json\"\n",
        "with open(\"dataset/\"+path,'r') as f:\n",
        "  data=json.load(f)\n",
        "X=np.array(data['X'],dtype=np.float32)\n",
        "y=np.array(data['y'])\n",
        "print(classify(X, y, \"binary\",d))"
      ],
      "metadata": {
        "id": "Moof8kovQ5It",
        "outputId": "e7c65bea-387e-4846-e84e-2f5bbca95c37",
        "colab": {
          "base_uri": "https://localhost:8080/"
        }
      },
      "execution_count": null,
      "outputs": [
        {
          "output_type": "stream",
          "name": "stdout",
          "text": [
            "Win-Chrome-Google\n",
            "w_old_def; MSE: 61%, FastDTW: 69%, GNB: 88.0%±5.1%, MNB: 85.0%±5.0%, KNN: 83.0%±4.58%, SVM: 87.0%±4.0%, RF: 86.0%±5.83%, LR: 88.5%±4.5%\n"
          ]
        }
      ]
    },
    {
      "cell_type": "code",
      "source": [
        "### TODO: [Experiments under noise]"
      ],
      "metadata": {
        "id": "wHNMRvg2HnEN"
      },
      "execution_count": null,
      "outputs": []
    },
    {
      "cell_type": "code",
      "source": [
        "def classify_multi(X,y,d):\n",
        "    lab_enc=LabelEncoder()\n",
        "    lab_hot=OneHotEncoder()\n",
        "    y_num= lab_enc.fit_transform(y)\n",
        "    y_hot=lab_hot.fit_transform(y_num.reshape(-1,1))\n",
        "    y_hot=y_hot.toarray()\n",
        "\n",
        "    skf = StratifiedShuffleSplit(n_splits=10,random_state=6)\n",
        "    acc_mean=0\n",
        "    acc_dev=0\n",
        "    acc_partial=[]\n",
        "    preds=[]\n",
        "    true=[]\n",
        "    for train_index, test_index in skf.split(X, y_num):\n",
        "        X_train, X_test = X[train_index], X[test_index]\n",
        "        mean=X_train.mean()\n",
        "        std=X_train.std()\n",
        "        X_train_norm=(X_train-mean+1e-10)/std\n",
        "        X_test_norm=(X_test-mean+1e-10)/std\n",
        "\n",
        "        y_train, y_test = y_hot[train_index], y_num[test_index]\n",
        "        length=X_train.shape[1]\n",
        "        model=small_cnn_lstm(X_train.shape[1],output_size=8)\n",
        "        model.fit(X_train_norm,y_train,validation_split=0.1,epochs=100,verbose=2,callbacks=[EarlyStopping( patience=2,restore_best_weights=True)])\n",
        "        preds.extend( model.predict(X_test_norm).argmax(axis=-1))\n",
        "        true.extend(y_test)\n",
        "        prd=model.predict(X_test_norm).argmax(axis=-1)\n",
        "        acc_partial.append(classification_report(y_test, prd, output_dict=True)['accuracy'])\n",
        "    \n",
        "    acc_mean = np.mean(acc_partial)\n",
        "    acc_dev = np.std(acc_partial)\n",
        "    print(d + \"mean: \",acc_mean,\" std: \", acc_dev)\n",
        "    print(classification_report(true, preds))"
      ],
      "metadata": {
        "id": "Q6idgxVPpyCq"
      },
      "execution_count": 70,
      "outputs": []
    },
    {
      "cell_type": "code",
      "source": [
        "### TODO: [Multi Target Attacks]\n",
        "systems=[\"Win-Chrome-LinkedIn\", \"Win-Tor-YouTube\", \"Mac-Safari-Twitter\"]\n",
        "defense=[\"w_o_def\",\"w_def\"]\n",
        "states = [\"0\",\"1\",\"2\",\"3\",\"4\",\"5\",\"6\",\"7\"]\n",
        "path=[]\n",
        "data=[]\n",
        "X=[]\n",
        "y=[]\n",
        "print(systems[1])\n",
        "for st in states:\n",
        "  path=systems[1] + '-' + defense[0] + '_' + st + \".json\"\n",
        "  with open(path,'r') as f:\n",
        "    data=json.load(f)\n",
        "    X_data=np.array(data['X'],dtype=np.float32)\n",
        "    y_data=np.array(data['y'])\n",
        "    X= np.array([y for x in [X_data, X] for y in x],dtype=np.float32)\n",
        "    y= np.array([y for x in [y_data, y] for y in x],dtype=np.float32)\n",
        "print(classify_multi(X, y,d))"
      ],
      "metadata": {
        "id": "ZH02IWcmHqhr",
        "outputId": "6842370e-64d3-4c7a-df95-3f98260ec288",
        "colab": {
          "base_uri": "https://localhost:8080/"
        }
      },
      "execution_count": 78,
      "outputs": [
        {
          "output_type": "stream",
          "name": "stdout",
          "text": [
            "Win-Tor-YouTube\n",
            "w_o_def mean:  0.7675  std:  0.04301162633521313\n",
            "              precision    recall  f1-score   support\n",
            "\n",
            "           0       0.71      0.90      0.80       100\n",
            "           1       0.81      0.81      0.81       100\n",
            "           2       0.85      0.75      0.80       100\n",
            "           3       0.74      0.71      0.72       100\n",
            "           4       0.75      0.80      0.78       100\n",
            "           5       0.79      0.74      0.76       100\n",
            "           6       0.73      0.76      0.75       100\n",
            "           7       0.78      0.67      0.72       100\n",
            "\n",
            "    accuracy                           0.77       800\n",
            "   macro avg       0.77      0.77      0.77       800\n",
            "weighted avg       0.77      0.77      0.77       800\n",
            "\n",
            "None\n"
          ]
        }
      ]
    },
    {
      "cell_type": "code",
      "source": [
        "def average_plot(X, sweep, interval, duration):\n",
        "  sample_size= len(X[0])\n",
        "  arr0 = np.zeros(sample_size)\n",
        "  arr1 = np.zeros(sample_size)\n",
        "  count0 = np.zeros(sample_size)\n",
        "  count1 = np.zeros(sample_size)\n",
        "  for i in range(0,100):\n",
        "    for j in range(0,sample_size):\n",
        "      cond_val = 6.0\n",
        "      if(sweep == True):\n",
        "        cond_val = 0\n",
        "      if(X[i][j] != cond_val):\n",
        "        arr0[j] += X[i][j]\n",
        "        count0[j] += 1\n",
        "      if(X[i+100][j] != cond_val):\n",
        "        arr1[j] += X[i+100][j]\n",
        "        count1[j] += 1\n",
        "  for i in range(0,sample_size):\n",
        "    if(count0[i] != 0):\n",
        "      arr0[i] /= count0[i]\n",
        "      if(sweep == True and arr0[i] != 0):\n",
        "        arr0[i] = interval/arr0[i]\n",
        "    if(count1[i] != 0):\n",
        "      arr1[i] /= count1[i]\n",
        "      if(sweep == True and arr1[i] != 0):\n",
        "        arr1[i] = interval/arr1[i]\n",
        "  ydata= []\n",
        "  for i in range(1,101):\n",
        "    ydata.append(i)\n",
        "  ydata=np.array(ydata)\n",
        "  plt.plot(arr1, '+--', label = \"Non Target\", linewidth=1, markersize=4,c=\"blue\")\n",
        "  plt.plot(arr0, 'o-', label = \"Target\", linewidth=1, markersize=4,c=\"orange\",alpha=0.3)\n",
        "  step=0.25\n",
        "  plt.xticks(np.arange(0, sample_size+1, sample_size*step),[0,step*duration,step*2*duration,step*3*duration,step*4*duration])\n",
        "  plt.xlabel(\"Time of measurement (s)\")\n",
        "  plt.ylabel(\"Average buffer access time (ms)\")\n",
        "  plt.legend()\n",
        "  plt.show()"
      ],
      "metadata": {
        "id": "akIwE6gKRzlo"
      },
      "execution_count": 18,
      "outputs": []
    },
    {
      "cell_type": "code",
      "source": [
        "# LR with 10-fold cross validation\n",
        "def accuracy_plot(X, y, duration):\n",
        "  skf = StratifiedShuffleSplit(n_splits=10,random_state=6)\n",
        "  means=[]\n",
        "  deviations=[]\n",
        "  X_temp = X\n",
        "  ss = len(X[0])\n",
        "  for datapoint_index in range (1,ss+1):\n",
        "    X_temp = np.delete(X,np.s_[datapoint_index:ss],axis=1)\n",
        "    partial_accuracies=[]\n",
        "    for train_index, test_index in skf.split(X_temp, y):\n",
        "      X_train, X_test = X_temp[train_index], X_temp[test_index]\n",
        "      mean=X_train.mean()\n",
        "      std=X_train.std()\n",
        "      X_train_norm=(X_train-mean+1e-10)/std\n",
        "      X_test_norm=(X_test-mean+1e-10)/std\n",
        "  \n",
        "      y_train, y_test = y[train_index], y[test_index]\n",
        "      length=X_train.shape[1]\n",
        "  \n",
        "      logreg = LogisticRegression(max_iter=1000)\n",
        "      logreg.fit(X_train_norm,y_train)\n",
        "      prd=logreg.predict(X_test_norm);\n",
        "      partial_accuracies.append(classification_report(y_test, prd, output_dict=True)['accuracy'])\n",
        "    means.append(np.mean(partial_accuracies))\n",
        "    deviations.append(np.std(partial_accuracies))\n",
        "  xdata=np.array(means);\n",
        "  stdata=np.array(deviations)\n",
        "  ydata= []\n",
        "  steps = 0.002\n",
        "  for i in range(1,len(xdata)+1):\n",
        "    ydata.append(i*steps)\n",
        "  ydata=np.array(ydata)\n",
        "  plt.plot(xdata, label = 'Accuracy')\n",
        "  plt.fill_between(ydata*ss, xdata - stdata, xdata + stdata, color='gray', alpha=0.2, label = 'std')\n",
        "  plt.xticks(np.arange(0, ss+1, step=ss/4),[0,(duration/4),(duration/2),(duration/4)*3,duration])\n",
        "  plt.xlabel(\"Time of measurement included (s)\")\n",
        "  plt.ylabel(\"Attack accuracy\")\n",
        "  ax = plt.gca()\n",
        "  ax.set_ylim(bottom=0.3)\n",
        "  ax.set_ylim(top=1)\n",
        "  plt.legend()\n",
        "  plt.savefig('youtube-classifier-vs-time.pdf', dpi=300)\n",
        "  plt.show()"
      ],
      "metadata": {
        "id": "7QD0LgnqXtJQ"
      },
      "execution_count": 20,
      "outputs": []
    },
    {
      "cell_type": "code",
      "source": [
        "## [Average and Attack Accuracy plots]\n",
        "## Setups\n",
        "systems=[\"Win-Chrome\", \"Win-Tor\", \"Mac-Intel-Safari\", \"Mac-M1-Chrome\"]\n",
        "services=[\"Google\", \"Twitter\", \"LinkedIn\", \"TikTok\", \"Facebook\", \"Instagram\", \"Reddit\"]\n",
        "defense=[\"w_o_def\",\"w_def\"]\n",
        "setup= systems[0]+ '-' + services[0] + '-' + defense[0]\n",
        "with open(\"dataset/\"+setup+\".json\",'r') as f:\n",
        "  data=json.load(f)\n",
        "X=np.array(data['X'],dtype=np.float32)\n",
        "y=np.array(data['y'])\n",
        "print(setup)\n",
        "average_plot(X, sweep=False, interval=2, duration=1)\n",
        "accuracy_plot(X, y, 1)"
      ],
      "metadata": {
        "id": "jkoZCneOTeZJ",
        "outputId": "bbc9916f-97ff-496b-d1d8-4816c161b2b4",
        "colab": {
          "base_uri": "https://localhost:8080/",
          "height": 562
        }
      },
      "execution_count": 22,
      "outputs": [
        {
          "output_type": "stream",
          "name": "stdout",
          "text": [
            "Win-Chrome-Google-w_o_def\n"
          ]
        },
        {
          "output_type": "display_data",
          "data": {
            "image/png": "[encoded data removed]",
            "text/plain": [
              "<Figure size 432x288 with 1 Axes>"
            ]
          },
          "metadata": {
            "needs_background": "light"
          }
        },
        {
          "output_type": "display_data",
          "data": {
            "image/png": "[encoded data removed]",
            "text/plain": [
              "<Figure size 432x288 with 1 Axes>"
            ]
          },
          "metadata": {
            "needs_background": "light"
          }
        }
      ]
    }
  ]
}
