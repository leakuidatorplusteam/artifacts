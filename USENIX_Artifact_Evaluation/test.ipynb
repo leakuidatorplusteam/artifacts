{
  "nbformat": 4,
  "nbformat_minor": 0,
  "metadata": {
    "colab": {
      "name": "reproduce.ipynb",
      "provenance": []
    },
    "kernelspec": {
      "name": "python3",
      "display_name": "Python 3"
    },
    "language_info": {
      "name": "python"
    }
  },
  "cells": [
    {
      "cell_type": "code",
      "execution_count": 10,
      "metadata": {
        "id": "YYZ5t-mPY2GE"
      },
      "outputs": [],
      "source": [
        "import json\n",
        "import numpy as np\n",
        "import matplotlib.pyplot as plt\n",
        "from sklearn.model_selection import StratifiedShuffleSplit\n",
        "from sklearn.linear_model import LogisticRegression\n",
        "from sklearn.metrics import classification_report"
      ]
    },
    {
      "cell_type": "code",
      "source": [
        "def average_plot(X, y, sweep, interval, duration):\n",
        "  sample_size = len(X[0])\n",
        "  num_samples = len(X)\n",
        "  arr0 = np.zeros(sample_size)\n",
        "  arr1 = np.zeros(sample_size)\n",
        "  count0 = np.zeros(sample_size)\n",
        "  count1 = np.zeros(sample_size)\n",
        "  for i in range(0,num_samples):\n",
        "    for j in range(0,sample_size):\n",
        "      cond_val = 6.0\n",
        "      if(sweep == True):\n",
        "        cond_val = 0\n",
        "      if(y[i] == 0 and X[i][j] != cond_val):\n",
        "        arr0[j] += X[i][j]\n",
        "        count0[j] += 1\n",
        "      if(y[i] == 1 and X[i][j] != cond_val):\n",
        "        arr1[j] += X[i][j]\n",
        "        count1[j] += 1\n",
        "  for i in range(0,sample_size):\n",
        "    if(count0[i] != 0):\n",
        "      arr0[i] /= count0[i]\n",
        "      if(sweep == True and arr0[i] != 0):\n",
        "        arr0[i] = interval/arr0[i]\n",
        "    if(count1[i] != 0):\n",
        "      arr1[i] /= count1[i]\n",
        "      if(sweep == True and arr1[i] != 0):\n",
        "        arr1[i] = interval/arr1[i]\n",
        "  ydata= []\n",
        "  for i in range(1,101):\n",
        "    ydata.append(i)\n",
        "  ydata=np.array(ydata)\n",
        "  plt.plot(arr0, '+--', label = \"Non Target\", linewidth=1, markersize=4,c=\"blue\")\n",
        "  plt.plot(arr1, 'o-', label = \"Target\", linewidth=1, markersize=4,c=\"orange\",alpha=0.3)\n",
        "  step=0.33\n",
        "  plt.xticks(np.arange(0, sample_size+1, sample_size*step),[0,round(step*duration),round(step*2*duration),round(step*3*duration),round(step*4*duration)])\n",
        "  plt.xlabel(\"Time of measurement (s)\")\n",
        "  plt.ylabel(\"Average buffer access time (ms)\")\n",
        "  plt.legend()\n",
        "  plt.show()"
      ],
      "metadata": {
        "id": "YnUkaBMIY4xz"
      },
      "execution_count": 11,
      "outputs": []
    },
    {
      "cell_type": "code",
      "source": [
        "def classify_LR(Xdata, ydata):\n",
        "  skf = StratifiedShuffleSplit(n_splits=10,random_state=6)\n",
        "  partial_accuracies=[]\n",
        "  for train_index, test_index in skf.split(Xdata, ydata):\n",
        "      X_train, X_test = Xdata[train_index], Xdata[test_index]\n",
        "      y_train, y_test = ydata[train_index], ydata[test_index]\n",
        "      mean=X_train.mean()\n",
        "      std=X_train.std()\n",
        "      X_train_norm=(X_train-mean+1e-10)/std\n",
        "      X_test_norm=(X_test-mean+1e-10)/std\n",
        "      model=LogisticRegression(max_iter=1000)\n",
        "      model.fit(X_train_norm,y_train)\n",
        "      prd=model.predict(X_test_norm)\n",
        "      partial_accuracies.append(classification_report(y_test, prd, output_dict=True)['accuracy'])\n",
        "  mean=round(np.mean(partial_accuracies)*100,2)\n",
        "  deviation=round(np.std(partial_accuracies)*100,2)\n",
        "  return (\"Attack accuracy with logistic regression classifier: \" + str(mean)+\"%±\"+str(deviation)+\"%\")"
      ],
      "metadata": {
        "id": "NRVBsMSEZJOl"
      },
      "execution_count": 12,
      "outputs": []
    },
    {
      "cell_type": "code",
      "source": [
        "f = open('template.json')\n",
        "sweep = False; ## False for Windows Intel and macOS Intel, True for macOS M1\n",
        "interval = 2; ## 2 for Windows Intel and macOS Inte, 10 for macOS M1\n",
        "data = json.load(f,)\n",
        "X=np.array(data['X'],dtype=np.float32)\n",
        "y=np.array(data['y'])\n",
        "average_plot(X, y, sweep, interval, duration=3)\n",
        "print(classify_LR(X, y))\n",
        "f.close()"
      ],
      "metadata": {
        "id": "w1nxTvscZSAK"
      },
      "execution_count": null,
      "outputs": []
    }
  ]
}